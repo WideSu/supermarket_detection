{
  "cells": [
    {
      "cell_type": "markdown",
      "metadata": {
        "id": "EoML71rOb2Uy"
      },
      "source": [
        "# Train model on colab\n",
        "\n",
        "[![Open In Colab](https://colab.research.google.com/assets/colab-badge.svg)](https://colab.research.google.com/github/kk17/supermarket_detection/blob/kyle/notebooks/training_on_cloud.ipynb?authuser=2)\n"
      ]
    },
    {
      "cell_type": "code",
      "execution_count": null,
      "metadata": {
        "colab": {
          "base_uri": "https://localhost:8080/"
        },
        "id": "2O-96lBBb2U2",
        "outputId": "82be58ac-e35f-46ee-a3f0-188144830266"
      },
      "outputs": [],
      "source": [
        "%%bash\n",
        "# clone project repo\n",
        "git clone https://github.com/kk17/supermarket_detection\n",
        "cd supermarket_detection\n"
      ]
    },
    {
      "cell_type": "markdown",
      "metadata": {
        "id": "DqE4-Qeke5Dh"
      },
      "source": [
        "## mount drive"
      ]
    },
    {
      "cell_type": "code",
      "execution_count": 12,
      "metadata": {
        "colab": {
          "base_uri": "https://localhost:8080/"
        },
        "id": "a8hO0ko4ejWh",
        "outputId": "376c7811-6c3b-473c-c735-20a7a389b9b4"
      },
      "outputs": [
        {
          "name": "stdout",
          "output_type": "stream",
          "text": [
            "Mounted at /content/drive\n"
          ]
        }
      ],
      "source": [
        "from google.colab import drive\n",
        "drive.mount('/content/drive')"
      ]
    },
    {
      "cell_type": "markdown",
      "metadata": {
        "id": "YeqPCz68hHD_"
      },
      "source": [
        "## Use colabcode"
      ]
    },
    {
      "cell_type": "code",
      "execution_count": null,
      "metadata": {
        "colab": {
          "base_uri": "https://localhost:8080/",
          "height": 1000
        },
        "id": "scMTndJThLKI",
        "outputId": "19a3ee07-ed9c-4def-ba5a-3a0501b06f61"
      },
      "outputs": [],
      "source": [
        "!pip install colabcode"
      ]
    },
    {
      "cell_type": "markdown",
      "metadata": {},
      "source": [
        "Note: \n",
        "1. After open the vscode in colab, you may need to go back to the notebook again to check if Colab ask if you are a robot.\n",
        "2. colabcode use `ngrok` to create a tunel for access vscode, the tunnel may expired in about 8 hours. You need to regiser an account to avoid the expiration. [ngrok - secure introspectable tunnels to localhost](https://ngrok.com/upgrade)\n"
      ]
    },
    {
      "cell_type": "code",
      "execution_count": null,
      "metadata": {},
      "outputs": [],
      "source": [
        "!ngrok authtoken {YOU_TOKEN}"
      ]
    },
    {
      "cell_type": "code",
      "execution_count": null,
      "metadata": {
        "colab": {
          "base_uri": "https://localhost:8080/"
        },
        "id": "6RHrLHpshQbN",
        "outputId": "75e1164d-ff32-4e79-ba6b-44578e336e01"
      },
      "outputs": [],
      "source": [
        "from colabcode import ColabCode\n",
        "\n",
        "# vscode\n",
        "ColabCode(port=10000)\n",
        "# jupyter lab\n",
        "# ColabCode(port=10000, lab=True)"
      ]
    },
    {
      "cell_type": "code",
      "execution_count": null,
      "metadata": {
        "id": "1djhZizQhbgN"
      },
      "outputs": [],
      "source": [
        "https://0615-104-196-168-70.ngrok.io/?folder=/content/supermarket_detection"
      ]
    }
  ],
  "metadata": {
    "colab": {
      "name": "training_on_cloud.ipynb",
      "provenance": []
    },
    "kernelspec": {
      "display_name": "Python 3",
      "name": "python3"
    },
    "language_info": {
      "name": "python"
    },
    "orig_nbformat": 4
  },
  "nbformat": 4,
  "nbformat_minor": 0
}
